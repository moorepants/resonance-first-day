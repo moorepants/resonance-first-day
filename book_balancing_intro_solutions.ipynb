{
 "cells": [
  {
   "cell_type": "markdown",
   "metadata": {},
   "source": [
    "# Introducing Mechanical Vibrations with a Book Oscillating on a Coffee Mug\n",
    "\n",
    "## Course Information\n",
    "\n",
    "In the following two resources you can find more detailed information about the 11 week course that this notebook is an introduction to:\n",
    "\n",
    "- Course website: https://moorepants.github.io/eng122/\n",
    "- The *Resonance* open access digital text book (draft): https://moorepants.github.io/resonance/\n",
    "- Software that accompanies the course: http://github.com/moorepants/resonance\n",
    "\n",
    "## Course Learning Objectives\n",
    "\n",
    "The primary course objectives are (succinctly) that students will be able to:\n",
    "\n",
    "- characterize vibrations based on measurements from real and simulated dynamic systems\n",
    "- create predictive mathematical and computational models of real vibrating systems\n",
    "- design vibrating systems with desired characteristics\n",
    "\n",
    "In this notebook, I will give you a taste of each of these three using a simple real system we can examine in class. Each class session will follow a similar pattern but with new and more complicated systems as we progress. You will be able to complete each step in the entire modeling-analysis-design iterative loop when the course is over.\n",
    "\n",
    "## Prerequesites\n",
    "\n",
    "- Familarity using an interpreted scientific programming language (Python, Matlab, R, etc)\n",
    "- Basic Python skills will be helpful: how to write a function, assign variables, import things\n",
    "- Intro dynamics: F=ma, ODEs, energy\n",
    "\n",
    "## Execution Instructions\n",
    "\n",
    "Execute code cells by clicking on the cell and pressing the \"Run\" button in the toolbar or by simultaneously pressing the \"Shift\" and \"Enter\" keys on your keyboard."
   ]
  },
  {
   "cell_type": "markdown",
   "metadata": {},
   "source": [
    "# Introduction\n",
    "\n",
    "This notebook introduces a single [degree of freedom](https://en.wikipedia.org/wiki/Degrees_of_freedom_(mechanics) vibratory system: a textbook balancing on a cylindrical coffee mug. The system is implemented as a computational model that you can interact with in order to visualize the free response and compare the computer simulation to a demonstration in the classroom. The video below shows the real system in action:"
   ]
  },
  {
   "cell_type": "code",
   "execution_count": null,
   "metadata": {},
   "outputs": [],
   "source": [
    "from IPython.display import YouTubeVideo\n",
    "YouTubeVideo('B12HbAOKnqI', width=600, height=480)"
   ]
  },
  {
   "cell_type": "markdown",
   "metadata": {},
   "source": [
    "## What are vibrations?\n",
    "\n",
    "Here we will study a simple vibratory system. A vibrating mechanical system is typically defined as a collection of rigid and flexible objects that interact in a closed envelope. Thinking about the book and the mug, it will oscillate if initially displaced at a small non-horizontal angle and let go. Note that it oscillates about a horizontal position. This position is called an **equilibrium point**, **equilibrium state**, or **equilibrium configuration** which is a natural position the system comes to when there is no motion. Vibration is formally defined as an **oscillation about an equilibrium** and occurs if there is a moving inertial object which has **restoring forces** acting on it.\n",
    "\n",
    "Vibrations require:\n",
    "\n",
    "- inertial object that can move\n",
    "- restoring forces\n",
    "- equilibrium configuration"
   ]
  },
  {
   "cell_type": "markdown",
   "metadata": {},
   "source": [
    "During this class, we will examine and explore many different vibratory systems, such as this simple book on a mug system. We will have some live demos, as we are showing now, but in general we will work with computational representations of systems to experiment and learn about the nature of vibration."
   ]
  },
  {
   "cell_type": "markdown",
   "metadata": {},
   "source": [
    "## Python imports and setup\n",
    "\n",
    "This is boiler plate import code that makes all of the necessary libraries available for use and sets up some display setting for the notebook."
   ]
  },
  {
   "cell_type": "code",
   "execution_count": null,
   "metadata": {},
   "outputs": [],
   "source": [
    "import numpy as np\n",
    "import sympy as sm\n",
    "import matplotlib.pyplot as plt"
   ]
  },
  {
   "cell_type": "code",
   "execution_count": null,
   "metadata": {},
   "outputs": [],
   "source": [
    "sm.init_printing()  # makes SymPy display as pretty math"
   ]
  },
  {
   "cell_type": "code",
   "execution_count": null,
   "metadata": {},
   "outputs": [],
   "source": [
    "# makes matplotlib plots show up in notebook and be interactive\n",
    "%matplotlib notebook"
   ]
  },
  {
   "cell_type": "markdown",
   "metadata": {},
   "source": [
    "This imports some custom code for the class. You will learn what these do in detail as we progress in the class."
   ]
  },
  {
   "cell_type": "code",
   "execution_count": null,
   "metadata": {},
   "outputs": [],
   "source": [
    "from book_balance import print_eq, BookCupSystem, eom_in_first_order_form"
   ]
  },
  {
   "cell_type": "markdown",
   "metadata": {},
   "source": [
    "# Objective 1: Modeling\n",
    "\n",
    "*Modeling* is the development of a simple abstraction of reality that can be used for predictive purposes. Models are often mathematical but come in many forms. We will work with mathematical and computational models here."
   ]
  },
  {
   "cell_type": "markdown",
   "metadata": {},
   "source": [
    "## Modeling Step 1: Create a simplified free body diagram of the system\n",
    "\n",
    "This step is not a trivial step, but for the purposes of the introduction we will assume you have come up with a simplified version of the conceptual mechanics that govern the system's motion. In this case there are many several assumptions made.\n",
    "\n",
    "### Exercise\n",
    "\n",
    "If we want to learn specifically about how the book oscillates on the cup, what might be some good assumptions to make to simplify reality so that we can create a mathematical model?"
   ]
  },
  {
   "cell_type": "markdown",
   "metadata": {},
   "source": [
    "Here are the main assumptions I started with:\n",
    "\n",
    "- The book and the cup surfaces are perfectly shaped geometric entities.\n",
    "- The book rolls without slip on the cup's surface.\n",
    "- The book is a uniformly dense rectangle that only has planar motion.\n",
    "\n",
    "The essence of modeling is coming up with appropriate assumptions that let you describe the system in the simplest way such that the model's behavior is sufficient to answer your questions about the system. It is a skill that takes a lot of practice and you will get to practice this a fair amount in this class. A model may be good or it may be bad, depending on what we are hoping to predict. We will check its \"goodness\" in the analysis section.\n",
    "\n",
    "Below you will find a pre-determined **free body diagram** that can likely capture the essential vibratory motion of this system.\n",
    "\n",
    "<img src=\"balancing-book.svg\" alt=\"image\" width=\"600\" />"
   ]
  },
  {
   "cell_type": "markdown",
   "metadata": {},
   "source": [
    "## Modeling Step 2: Write the kinetic and potential energy of the system"
   ]
  },
  {
   "cell_type": "markdown",
   "metadata": {},
   "source": [
    "Once we have a conceptual model, the next task is to form the mathematical equations of motion of the system. These equations most often differential equations that follow [Newton's Laws of Motion](https://en.wikipedia.org/wiki/Newton%27s_laws_of_motion) and are typically expressed in the form of the linear (or translational) equation:\n",
    "\n",
    "$$ \\sum F = ma $$\n",
    "\n",
    "$$ \\sum \\textrm{forces} = \\textrm{mass} \\cdot \\textrm{acceleration} $$\n",
    "\n",
    "and a rotational equation (Euler's equation):\n",
    "\n",
    "$$ \\sum T = I\\alpha $$\n",
    "\n",
    "$$ \\sum \\textrm{torque} = \\textrm{inertia} \\cdot \\textrm{angular acceleration} $$\n",
    "\n",
    "We will use **[Lagrange's method](https://en.wikipedia.org/wiki/Lagrangian_mechanics)** of forming the equations of motion of vibrating systems in this class. Lagrange's method is equivalent to the Newton-Euler approach of forming $F=ma$ and $T=I\\alpha$ but is often a simpler approach due to only having to determine the total **kinetic and potential energy** of the system."
   ]
  },
  {
   "cell_type": "markdown",
   "metadata": {},
   "source": [
    "### Kinetic energy\n",
    "\n",
    "The total kinetic energy is the sum of the translational kinetic energy:\n",
    "\n",
    "$$\n",
    "T_{tran} = \\frac{1}{2}mv^2\n",
    "$$\n",
    "\n",
    "where:\n",
    "\n",
    "- $m$: total mass of the moving object\n",
    "- $v$: magnitude of the translational velocity of the mass center of the object\n",
    "\n",
    "and rotational kinetic energy:\n",
    "\n",
    "$$\n",
    "T_{rot} = \\frac{1}{2}I\\dot{\\theta}^2\n",
    "$$\n",
    "\n",
    "- $I$: moment of inertia of the moving object with respect to the mass center\n",
    "- $\\dot{\\theta}$: the magnitude of the angular velocity of the moving object\n",
    "\n",
    "$$\n",
    "T = T_{tran} + T_{rot}\n",
    "$$"
   ]
  },
  {
   "cell_type": "markdown",
   "metadata": {},
   "source": [
    "### Potential energy\n",
    "\n",
    "The potential energy relates to a conservative restoring forces. In our case, only the force due to gravity creates potential energy. The higher the mass center of the object raises, the more potential energy it has.\n",
    "\n",
    "$$\n",
    "U = mgh\n",
    "$$\n",
    "\n",
    "where:\n",
    "\n",
    "- $m$: total mass of the moving object\n",
    "- $g$: acceleration due to gravity\n",
    "- $h$: the change in height with respect to some stationary reference point"
   ]
  },
  {
   "cell_type": "markdown",
   "metadata": {},
   "source": [
    "### Finding the velocity and the height\n",
    "\n",
    "The book oscillates at an angular rate, $\\dot{\\theta}$, and the magnitude of the velocity of the center of mass of the book can be shown to be:\n",
    "\n",
    "$$v = \\frac{1}{2} \\sqrt{(d^2 + 4 r^2 \\theta^2) \\dot{\\theta}^{2}}$$\n",
    "\n",
    "The height above the center of the circle can be shown to be:\n",
    "\n",
    "$$h = \\left(r + \\frac{d}{2}\\right) \\cos\\theta + r \\theta \\sin\\theta$$"
   ]
  },
  {
   "cell_type": "markdown",
   "metadata": {},
   "source": [
    "Given the expressions for the magnitude of the translational and angular velocities and the height of the mass center of mass of the moving book we will write symbolic expressions using SymPy which can be accessed via `sm.` using Python's dot notation. For example, you will need `sm.sin()` and `sm.cos()`, the symbolic sine and cosine functions."
   ]
  },
  {
   "cell_type": "markdown",
   "metadata": {},
   "source": [
    "First create a function of time like so:"
   ]
  },
  {
   "cell_type": "code",
   "execution_count": null,
   "metadata": {},
   "outputs": [],
   "source": [
    "t = sm.symbols('t')"
   ]
  },
  {
   "cell_type": "code",
   "execution_count": null,
   "metadata": {},
   "outputs": [],
   "source": [
    "theta = sm.Function('theta')(t)"
   ]
  },
  {
   "cell_type": "markdown",
   "metadata": {},
   "source": [
    "Create symbols for the system's constants (mass, geometry, etc.):"
   ]
  },
  {
   "cell_type": "code",
   "execution_count": null,
   "metadata": {},
   "outputs": [],
   "source": [
    "d, l, r, m, g = sm.symbols('d, l, r, m, g') "
   ]
  },
  {
   "cell_type": "markdown",
   "metadata": {},
   "source": [
    "Now using SymPy functions, i.e. `sm.<function name>()`, you can create and display mathematical equations. Notice that you can take time derivatives with `sm.diff()`:"
   ]
  },
  {
   "cell_type": "code",
   "execution_count": null,
   "metadata": {},
   "outputs": [],
   "source": [
    "v = sm.sqrt((d**2 + 4 * r**2 * theta**2) * sm.diff(theta, t)**2) / 2"
   ]
  },
  {
   "cell_type": "code",
   "execution_count": null,
   "metadata": {},
   "outputs": [],
   "source": [
    "print_eq('v', v)"
   ]
  },
  {
   "cell_type": "code",
   "execution_count": null,
   "metadata": {},
   "outputs": [],
   "source": [
    "h = (r + d/2) * sm.cos(theta) + r * theta * sm.sin(theta)"
   ]
  },
  {
   "cell_type": "code",
   "execution_count": null,
   "metadata": {},
   "outputs": [],
   "source": [
    "print_eq('h', h)"
   ]
  },
  {
   "cell_type": "markdown",
   "metadata": {},
   "source": [
    "### Exercise\n",
    "\n",
    "Look up the moment of inertia of a rectangle with respect to its geometric center (also it's center of mass under our uniformly dense assumption) and rotation about its longest axis:\n",
    "\n",
    "https://en.wikipedia.org/wiki/List_of_moments_of_inertia\n",
    "\n",
    "Create a symbolic expression in terms of our variables (see free body diagram) and assign it to the variable `I`.\n",
    "\n",
    "**Note**: In Python use `**` to raise a value to a power, not `^`."
   ]
  },
  {
   "cell_type": "code",
   "execution_count": null,
   "metadata": {},
   "outputs": [],
   "source": [
    "I = m / 12 * (d**2 + l**2)"
   ]
  },
  {
   "cell_type": "code",
   "execution_count": null,
   "metadata": {},
   "outputs": [],
   "source": [
    "# write your answer here, I = ..."
   ]
  },
  {
   "cell_type": "code",
   "execution_count": null,
   "metadata": {},
   "outputs": [],
   "source": [
    "print_eq('I', I)"
   ]
  },
  {
   "cell_type": "markdown",
   "metadata": {},
   "source": [
    "### Exercise\n",
    "\n",
    "Write a symbolic expression for the sum of the translational and rotational kinetic energy and store it in the variable `T`."
   ]
  },
  {
   "cell_type": "code",
   "execution_count": null,
   "metadata": {},
   "outputs": [],
   "source": [
    "T = m * v**2 / 2 + I * sm.diff(theta, t)**2 / 2"
   ]
  },
  {
   "cell_type": "code",
   "execution_count": null,
   "metadata": {},
   "outputs": [],
   "source": [
    "# write your answer here, T = ..."
   ]
  },
  {
   "cell_type": "code",
   "execution_count": null,
   "metadata": {},
   "outputs": [],
   "source": [
    "print_eq('T', T)"
   ]
  },
  {
   "cell_type": "markdown",
   "metadata": {},
   "source": [
    "### Exercise\n",
    "\n",
    "Write a symbolic expression for the potential energy and store it in the variable `U`."
   ]
  },
  {
   "cell_type": "code",
   "execution_count": null,
   "metadata": {},
   "outputs": [],
   "source": [
    "U = m * g * h"
   ]
  },
  {
   "cell_type": "code",
   "execution_count": null,
   "metadata": {},
   "outputs": [],
   "source": [
    "# Write your answer here, U = ..."
   ]
  },
  {
   "cell_type": "code",
   "execution_count": null,
   "metadata": {},
   "outputs": [],
   "source": [
    "print_eq('U', U)"
   ]
  },
  {
   "cell_type": "markdown",
   "metadata": {},
   "source": [
    "## Modeling Step 3: Form the equations of motion"
   ]
  },
  {
   "cell_type": "markdown",
   "metadata": {},
   "source": [
    "The Newton-Euler equations of motion are in second order form, i.e. second time derivative of the angular position. We will need them to be in explicit first order form. To put the systems in to explicit first order form, we will need to introduce a new variable called a generalized speed. We define this variable as:\n",
    "\n",
    "$$\\omega = \\frac{d\\theta}{dt}$$\n",
    "\n",
    "and it becomes the first of our two differential equations of motion."
   ]
  },
  {
   "cell_type": "code",
   "execution_count": null,
   "metadata": {},
   "outputs": [],
   "source": [
    "omega = sm.Function('omega')(t)"
   ]
  },
  {
   "cell_type": "markdown",
   "metadata": {},
   "source": [
    "The following function is a bit \"magic\" in the sense that all you know is that it takes the kinetic and potential energy and returns the equations of motion. We will learn how this happens further into the class."
   ]
  },
  {
   "cell_type": "code",
   "execution_count": null,
   "metadata": {},
   "outputs": [],
   "source": [
    "eom_in_first_order_form(T, U, theta, omega, t)"
   ]
  },
  {
   "cell_type": "markdown",
   "metadata": {},
   "source": [
    "The above mathematical equation represents a set of **coupled explicit first order nonlinear ordinary differential equations**. The left hand side has the derivatives of the two state variables $\\theta$ and $\\omega$ and the right hand side are the expressions one can use to calculate the derivatives given the constants (mass, geometry, etc) and the state variables at a given instance of time.\n",
    "\n",
    "This is a **mathematical model** that can predict the motion of the system and is derived from our conceptual model which is described with the **free body diagram**."
   ]
  },
  {
   "cell_type": "markdown",
   "metadata": {},
   "source": [
    "# Objective 2: Numerical Analysis\n",
    "\n",
    "In this section we will make use of a premade \"system\" to handle the numerical evaluation of the equations of motion. The following cells load this system and name it `sys` so we can make use of it."
   ]
  },
  {
   "cell_type": "code",
   "execution_count": null,
   "metadata": {},
   "outputs": [],
   "source": [
    "from book_balance import BookCupSystem"
   ]
  },
  {
   "cell_type": "code",
   "execution_count": null,
   "metadata": {},
   "outputs": [],
   "source": [
    "sys = BookCupSystem()"
   ]
  },
  {
   "cell_type": "markdown",
   "metadata": {},
   "source": [
    "`sys` is now a new system object that you can interact with. This system has many variables and functions associated with it. You can see what the system has and can do by using the Python dot notation. Type `sys.` and press the tab key to see a list of all the variables and functions that are associated with this system."
   ]
  },
  {
   "cell_type": "markdown",
   "metadata": {},
   "source": [
    "## Analysis Step 1: Visualize the System's Configuration"
   ]
  },
  {
   "cell_type": "markdown",
   "metadata": {},
   "source": [
    "It is often very helpful to visualize a system's configuration. In this case we need a two dimensional drawing similar to the diagram above. The `plot_configuration()` function let's us see a simple visualization."
   ]
  },
  {
   "cell_type": "code",
   "execution_count": null,
   "metadata": {},
   "outputs": [],
   "source": [
    "sys.plot_configuration();"
   ]
  },
  {
   "cell_type": "markdown",
   "metadata": {},
   "source": [
    "### System constants\n",
    "\n",
    "One thing that systems have are different constants, for example this system has geometry, such as the book's thickness and length and the cup's radius. The book also has a mass and, in this case, an underlying assumption is that the book is uniformly dense. Note that all of these do not change with time, i.e. they are constant. You can view all of the constants, which are stored in a Python dictionary by typing:"
   ]
  },
  {
   "cell_type": "code",
   "execution_count": null,
   "metadata": {},
   "outputs": [],
   "source": [
    "sys.constants"
   ]
  },
  {
   "cell_type": "markdown",
   "metadata": {},
   "source": [
    "A Python dictionary maps keys, in this case the constant's names, to values, the numerical values you'd like to assign to the constant. For example the key `'l'`, for \"length\", is associated with a value `0.029`. An individual constant's value can be accessed by using square brackets:"
   ]
  },
  {
   "cell_type": "code",
   "execution_count": null,
   "metadata": {},
   "outputs": [],
   "source": [
    "sys.constants['l']"
   ]
  },
  {
   "cell_type": "markdown",
   "metadata": {},
   "source": [
    "You can set the values of the constants as such:"
   ]
  },
  {
   "cell_type": "code",
   "execution_count": null,
   "metadata": {},
   "outputs": [],
   "source": [
    "sys.constants['l'] = 0.1  # meters"
   ]
  },
  {
   "cell_type": "code",
   "execution_count": null,
   "metadata": {},
   "outputs": [],
   "source": [
    "sys.plot_configuration();"
   ]
  },
  {
   "cell_type": "markdown",
   "metadata": {},
   "source": [
    "Set the length constant back to it's original value before moving on."
   ]
  },
  {
   "cell_type": "code",
   "execution_count": null,
   "metadata": {},
   "outputs": [],
   "source": [
    "sys.constants['l'] = 0.238  # meters"
   ]
  },
  {
   "cell_type": "markdown",
   "metadata": {},
   "source": [
    "### Coordinates\n",
    "\n",
    "There are other system values of interest too. Another very important type are those that vary with time.\n",
    "\n",
    "There are are an infinite number of time varying parameters, but it is often preferable to choose a uniquely simple set of time varying parameters, often called *generalized coordinates*. These coordinates define the **configuration** of the system. In our case, the vertical and horizontal location of the book's mass center could uniquely describe the configuration of the system (if the book can't slip on the cup). But a better choice would be to use the single time varying angle of the books surface relative to horizontal to define the configuration.\n",
    "\n",
    "The angle of the book is thus a generalized coordinate because no fewer number of time varying parameters can possibly be used to describe the configuration. For simple systems, the number of generalized coordinates corresponds to the number of *degrees of freedom* of a system. The degrees of freedom are the number of independent parameters that define the configuration. The non-slipping book on a cup has 1 degree of freedom which is described by the single generalized coordinate, the book's angle. The system's generalized coordinates can be accessed as such:"
   ]
  },
  {
   "cell_type": "code",
   "execution_count": null,
   "metadata": {},
   "outputs": [],
   "source": [
    "sys.coordinates['theta']"
   ]
  },
  {
   "cell_type": "code",
   "execution_count": null,
   "metadata": {},
   "outputs": [],
   "source": [
    "sys.coordinates['theta'] = np.deg2rad(15)  # radians"
   ]
  },
  {
   "cell_type": "code",
   "execution_count": null,
   "metadata": {},
   "outputs": [],
   "source": [
    "sys.plot_configuration();"
   ]
  },
  {
   "cell_type": "markdown",
   "metadata": {},
   "source": [
    "### Exercise\n",
    "\n",
    "Change the system's `constants` and `coordinates` and plot the configuration to see how the coordinates relate to the visual depiction."
   ]
  },
  {
   "cell_type": "markdown",
   "metadata": {},
   "source": [
    "*Note that you will be responsible for ensuring that the units are consistent and that all angles should be in radians. Best to stick with SI units.*"
   ]
  },
  {
   "cell_type": "code",
   "execution_count": null,
   "metadata": {},
   "outputs": [],
   "source": [
    "# write your answer here"
   ]
  },
  {
   "cell_type": "markdown",
   "metadata": {},
   "source": [
    "## Analysis Step 2: Simulating the system's motion"
   ]
  },
  {
   "cell_type": "markdown",
   "metadata": {},
   "source": [
    "To simulate the motion of the system we must integrate the equations of motion:\n",
    "\n",
    "$$\n",
    "\\begin{bmatrix} \\theta(t) \\\\ \\omega(t)\\end{bmatrix}\n",
    "=\n",
    "\\int_{t_0}^{t_f}{\n",
    "\\begin{bmatrix}\\frac{d}{d t} \\theta{\\left (t \\right )}\\\\\\frac{d}{d t} \\omega{\\left (t \\right )}\\end{bmatrix}}\n",
    "dt\n",
    "\\approx\n",
    "\\sum_{i=0}^n{\n",
    "\\begin{bmatrix}\\frac{d}{d t} \\theta{\\left (t_i \\right )}\\\\\\frac{d}{d t} \\omega{\\left (t_i \\right )}\\end{bmatrix}}\n",
    "\\Delta t\n",
    "$$\n",
    "\n",
    "$$\n",
    "\\left[\\begin{matrix}\\frac{d}{d t} \\theta{\\left (t \\right )}\\\\\\frac{d}{d t} \\omega{\\left (t \\right )}\\end{matrix}\\right] = \\left[\\begin{matrix}\\omega{\\left (t \\right )}\\\\\\frac{1}{4 d^{2} + l^{2} + 12 r^{2} \\theta^{2}{\\left (t \\right )}} \\left(6 d g \\sin{\\left (\\theta{\\left (t \\right )} \\right )} - 12 g r \\theta{\\left (t \\right )} \\cos{\\left (\\theta{\\left (t \\right )} \\right )} - 12 r^{2} \\omega^{2}{\\left (t \\right )} \\theta{\\left (t \\right )}\\right)\\end{matrix}\\right]\n",
    "$$\n",
    "\n",
    "### Exercise\n",
    "\n",
    "Write a Python function that computes the derivatives of the two **state variables**, $\\theta$ and $\\omega$. These expressions should come directly from the symbolic equations of motion we formed above.\n",
    "\n",
    "```python\n",
    "def rhs(theta, omega, d, l, r, g):\n",
    "    thetadot = # write your expression here\n",
    "    omegadot = # write your expression here\n",
    "    return thetadot, omegadot\n",
    "```\n",
    "\n",
    "**Note**: Make sure to use NumPy functions because this should work with floating point numbers. You will likely need `np.sin()` and `np.cos()`. For example:\n",
    "\n",
    "```python\n",
    "np.sin(5.0)\n",
    "```"
   ]
  },
  {
   "cell_type": "code",
   "execution_count": null,
   "metadata": {},
   "outputs": [],
   "source": [
    "def rhs(theta, omega, d, l, r, g):\n",
    "    thetadot = omega\n",
    "    omegadot = (6 * d * g * np.sin(theta) - 12 * g * r * theta * np.cos(theta) -\n",
    "                12 * r**2 * omega**2 * theta) / (4 * d**2 + l**2 + 12 * r**2 * theta**2)\n",
    "    return thetadot, omegadot"
   ]
  },
  {
   "cell_type": "code",
   "execution_count": null,
   "metadata": {},
   "outputs": [],
   "source": [
    "# write answer here"
   ]
  },
  {
   "cell_type": "markdown",
   "metadata": {},
   "source": [
    "You can test your function to see if it computes with floating point numbers:"
   ]
  },
  {
   "cell_type": "code",
   "execution_count": null,
   "metadata": {},
   "outputs": [],
   "source": [
    "rhs(5.0, 2.1, 6.0, 7.0, 12.0, 9.8)"
   ]
  },
  {
   "cell_type": "markdown",
   "metadata": {},
   "source": [
    "If you used all NumPy compatible functions it should also work with arrays:"
   ]
  },
  {
   "cell_type": "code",
   "execution_count": null,
   "metadata": {},
   "outputs": [],
   "source": [
    "rhs(5.0 * np.ones(2), 3.6 * np.ones(2), 6.0, 7.0, 12.0, 9.8)"
   ]
  },
  {
   "cell_type": "markdown",
   "metadata": {},
   "source": [
    "Once you have a working function that evaluates the state derivatives, add it to the system like so:"
   ]
  },
  {
   "cell_type": "code",
   "execution_count": null,
   "metadata": {},
   "outputs": [],
   "source": [
    "sys.diff_eq_func = rhs"
   ]
  },
  {
   "cell_type": "markdown",
   "metadata": {},
   "source": [
    "## Free Response\n",
    "\n",
    "Now that we have a system with a defined equation of motion. There are two ways to create this motion: apply perturbing forces to the system or set the coordinate to an initial angle other than the equilibrium angle. We will do the later here. The resulting motion is called the *free response* of the system or the solution to the *initial value problem*, meaning that no external forces are causing the motion. To simulate the free response of the system, some values of time are needed. In this case a final time value, effectively the duration, is passed into the `free_response()` function. First, set the initial angle of the book and then call `free_response()`, storing the returned result in a variable named `trajectories` :"
   ]
  },
  {
   "cell_type": "code",
   "execution_count": null,
   "metadata": {},
   "outputs": [],
   "source": [
    "sys.coordinates['theta'] = np.deg2rad(1)"
   ]
  },
  {
   "cell_type": "code",
   "execution_count": null,
   "metadata": {},
   "outputs": [],
   "source": [
    "trajectories = sys.free_response(5.0)"
   ]
  },
  {
   "cell_type": "markdown",
   "metadata": {},
   "source": [
    "This creates what is called a [data frame](https://pandas.pydata.org/pandas-docs/stable/generated/pandas.DataFrame.html). Data frames are defined in the [Pandas](http://pandas.pydata.org/) Python package and are one of the most common Python data types. They are essentially a 2D table with labels for each column and an index for each row. In our case the index is the time value and the columns are the values of the coordinates and the measurements at that particular time:"
   ]
  },
  {
   "cell_type": "code",
   "execution_count": null,
   "metadata": {},
   "outputs": [],
   "source": [
    "type(trajectories)"
   ]
  },
  {
   "cell_type": "code",
   "execution_count": null,
   "metadata": {},
   "outputs": [],
   "source": [
    "trajectories"
   ]
  },
  {
   "cell_type": "markdown",
   "metadata": {},
   "source": [
    "The data frames have useful plotting functions associated with them, so it is rather easy to plot the various coordinates and measurements versus time:"
   ]
  },
  {
   "cell_type": "code",
   "execution_count": null,
   "metadata": {},
   "outputs": [],
   "source": [
    "trajectories.plot(subplots=True);"
   ]
  },
  {
   "cell_type": "markdown",
   "metadata": {},
   "source": [
    "### Exercise\n",
    "\n",
    "What is the period of oscillation if the book's length, $l$, is $0.1$ m and $0.3$ m? Simulate the system and use the zoom and cross hair feature in the plot to find out."
   ]
  },
  {
   "cell_type": "code",
   "execution_count": null,
   "metadata": {},
   "outputs": [],
   "source": [
    "# write answer here"
   ]
  },
  {
   "cell_type": "markdown",
   "metadata": {},
   "source": [
    "## Analysis Step 3: Animating The Motion\n",
    "\n",
    "Now that we we have a time varying response, we can animate the configuration figure to visualize how the system moves. Use the `animate_configuration()` function to do so:"
   ]
  },
  {
   "cell_type": "code",
   "execution_count": null,
   "metadata": {},
   "outputs": [],
   "source": [
    "sys.animate_configuration(fps=10)"
   ]
  },
  {
   "cell_type": "markdown",
   "metadata": {},
   "source": [
    "### Exercise\n",
    "\n",
    "Try out changing a constant, generating a new free response, and then animating the motion."
   ]
  },
  {
   "cell_type": "code",
   "execution_count": null,
   "metadata": {},
   "outputs": [],
   "source": [
    "sys.constants['r'] = 0.25\n",
    "traj = sys.free_response(5.0)\n",
    "sys.animate_configuration()"
   ]
  },
  {
   "cell_type": "markdown",
   "metadata": {},
   "source": [
    "## Analysis Step 4: Validation Of the Model\n",
    "\n",
    "Now that we have some data produced from the simulation we can see how it compares to what we can measure in real life.\n",
    "\n",
    "### Exercise\n",
    "\n",
    "Using the demo available in the classroom, count the number of oscillations in a few seconds and compute the period of the oscillation. Feel free to measure the book and the mug's dimensions. If you set the constants to match, does the period of the simulation match that of the real book?"
   ]
  },
  {
   "cell_type": "code",
   "execution_count": null,
   "metadata": {},
   "outputs": [],
   "source": [
    "# write solution here"
   ]
  },
  {
   "cell_type": "markdown",
   "metadata": {},
   "source": [
    "# Objective 3: Design"
   ]
  },
  {
   "cell_type": "markdown",
   "metadata": {},
   "source": [
    "Imagine glueing three books together in a stack and balancing them on the standard coffee mug. If you give an initial angle of 5 degrees what happens?"
   ]
  },
  {
   "cell_type": "code",
   "execution_count": null,
   "metadata": {},
   "outputs": [],
   "source": [
    "sys = BookCupSystem()\n",
    "sys.diff_eq_func = rhs\n",
    "sys.constants"
   ]
  },
  {
   "cell_type": "code",
   "execution_count": null,
   "metadata": {},
   "outputs": [],
   "source": [
    "sys.constants['d'] = 3 * 0.029  # m"
   ]
  },
  {
   "cell_type": "code",
   "execution_count": null,
   "metadata": {},
   "outputs": [],
   "source": [
    "sys.coordinates['theta'] = np.deg2rad(5)"
   ]
  },
  {
   "cell_type": "code",
   "execution_count": null,
   "metadata": {},
   "outputs": [],
   "source": [
    "traj = sys.free_response(2.5)"
   ]
  },
  {
   "cell_type": "code",
   "execution_count": null,
   "metadata": {},
   "outputs": [],
   "source": [
    "traj.plot(subplots=True);"
   ]
  },
  {
   "cell_type": "code",
   "execution_count": null,
   "metadata": {},
   "outputs": [],
   "source": [
    "sys.animate_configuration()"
   ]
  },
  {
   "cell_type": "markdown",
   "metadata": {},
   "source": [
    "### Exercise\n",
    "\n",
    "Is there of a cup radius that ensures the three books vibrates stably on the cup (i.e. doesn't fall off)?\n",
    "\n",
    "Execute the following cells and a slider will appear, allowing you to see how changing the cup's radius affects the angle trajectory. See if you can find any values of radius that ensure a stable oscillation.\n",
    "\n",
    "Secondly, find the radius of the cup that will cause the period of oscillation to be 1 second, them maybe we can use this as a clock.\n",
    "\n",
    "Feel free to animate the system if you happen to find a value."
   ]
  },
  {
   "cell_type": "code",
   "execution_count": null,
   "metadata": {},
   "outputs": [],
   "source": [
    "from ipywidgets import interact, FloatSlider"
   ]
  },
  {
   "cell_type": "code",
   "execution_count": null,
   "metadata": {},
   "outputs": [],
   "source": [
    "fig, ax = plt.subplots(1, 1)\n",
    "\n",
    "line = ax.plot(traj.index, np.rad2deg(traj.theta))[0]\n",
    "\n",
    "ax.set_xlabel('Time [s]')\n",
    "ax.set_ylabel(r'$\\theta$ [deg]')\n",
    "\n",
    "ax.set_ylim((-90, 90))\n",
    "\n",
    "def update_line(r=0.042):\n",
    "    sys.constants['r'] = r\n",
    "    traj = sys.free_response(2.5)\n",
    "    line.set_data(traj.index, np.rad2deg(traj.theta))\n",
    "    fig.canvas.draw()"
   ]
  },
  {
   "cell_type": "code",
   "execution_count": null,
   "metadata": {},
   "outputs": [],
   "source": [
    "interact(update_line, r=FloatSlider(value=0.042, min=0.0, max=0.1, step=0.005, readout_format='.3f'))"
   ]
  },
  {
   "cell_type": "code",
   "execution_count": null,
   "metadata": {},
   "outputs": [],
   "source": [
    "# write your answer here"
   ]
  },
  {
   "cell_type": "markdown",
   "metadata": {},
   "source": [
    "The mug radius can be considered a \"design parameter\", i.e. something an engineering could change, to get the desired behavior. This is a simple example of meeting a design criteria, \"stability\", with a predictive model."
   ]
  },
  {
   "cell_type": "markdown",
   "metadata": {},
   "source": [
    "# Summary\n",
    "\n",
    "In this notebook you:\n",
    "\n",
    "- characterized the books motion by its simulated and real period of oscillation\n",
    "- validated that the model matched reality and was a good predictor\n",
    "- found the value of the radius, a design parameter, that governed good \n",
    "\n",
    "This is a simple of example of what you will be doing in this class. Real systems offer many more interesting dynamics and vibratory motion, especially when there is more than one moving part. We will work with a new system each couple of class periods and get deeper and deeper into the analysis, modeling, and design of vibrating mechanical systems."
   ]
  }
 ],
 "metadata": {
  "anaconda-cloud": {},
  "kernelspec": {
   "display_name": "Python [default]",
   "language": "python",
   "name": "python3"
  },
  "language_info": {
   "codemirror_mode": {
    "name": "ipython",
    "version": 3
   },
   "file_extension": ".py",
   "mimetype": "text/x-python",
   "name": "python",
   "nbconvert_exporter": "python",
   "pygments_lexer": "ipython3",
   "version": "3.5.4"
  }
 },
 "nbformat": 4,
 "nbformat_minor": 2
}
