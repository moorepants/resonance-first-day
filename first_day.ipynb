{
 "cells": [
  {
   "cell_type": "markdown",
   "metadata": {},
   "source": [
    "# Introducing Mechanical Vibrations with a Book Oscillating on a Coffee Mug\n",
    "\n",
    "## Course Learning Objectives\n",
    "\n",
    "The primary course objectives are (succinctly) that students will be able to:\n",
    "\n",
    "- characterize vibrations based on measurements from real and simulated dynamic systems\n",
    "- design vibrating systems with desired characteristics\n",
    "- create predictive mathematical and computational models of real vibrating systems\n",
    "\n",
    "In this notebook, you will get a taste of each of these three using a simple real system we can examine in class. Each class session will follow a similar pattern but with new and more complicated systems as we progress. You will be able to complete each step in the entire modeling-analysis-design iterative loop when the course is over.\n",
    "\n",
    "## Prerequesites\n",
    "\n",
    "- Familarity using an interpreted scientific programming language (Python, Matlab, R, etc)\n",
    "- Basic Python skills will be helpful: how to write a function, assign variables, import things\n",
    "- Intro dynamics: F=ma, ODEs, energy\n",
    "\n",
    "## Execution Instructions\n",
    "\n",
    "Execute code cells by clicking on the cell and pressing the \"Run\" button in the toolbar or by simultaneously pressing the \"Shift\" and \"Enter\" keys on your keyboard."
   ]
  },
  {
   "cell_type": "markdown",
   "metadata": {},
   "source": [
    "# Introduction\n",
    "\n",
    "This notebook introduces a single [degree of freedom](https://en.wikipedia.org/wiki/Degrees_of_freedom_(mechanics) vibratory system: a textbook balancing on a cylindrical coffee mug. The system is implemented as a computational model that you can interact with in order to visualize the free response and compare the computer simulation to a demonstration in the classroom. The video below shows the real system in action:"
   ]
  },
  {
   "cell_type": "code",
   "execution_count": 1,
   "metadata": {},
   "outputs": [
    {
     "data": {
      "image/jpeg": "[encoded data removed]",
      "text/html": [
       "\n",
       "        <iframe\n",
       "            width=\"600\"\n",
       "            height=\"480\"\n",
       "            src=\"https://www.youtube.com/embed/B12HbAOKnqI\"\n",
       "            frameborder=\"0\"\n",
       "            allowfullscreen\n",
       "        ></iframe>\n",
       "        "
      ],
      "text/plain": [
       "<IPython.lib.display.YouTubeVideo at 0x7fe3c4530a20>"
      ]
     },
     "execution_count": 1,
     "metadata": {},
     "output_type": "execute_result"
    }
   ],
   "source": [
    "from IPython.display import YouTubeVideo\n",
    "YouTubeVideo('B12HbAOKnqI', width=600, height=480)"
   ]
  },
  {
   "cell_type": "markdown",
   "metadata": {},
   "source": [
    "## What are vibrations?\n",
    "\n",
    "Here we will study a simple vibratory system. A vibrating mechanical system is typically defined as a collection of rigid and flexible objects that interact in a closed envelope. Thinking about the book and the mug, it will oscillate if initially displaced at a small non-horizontal angle and let go. Note that it oscillates about a horizontal position. This position is called an **equilibrium point**, **equilibrium state**, or **equilibrium configuration** which is a natural position the system comes to when there is no motion. Vibration is formally defined as an **oscillation about an equilibrium** and occurs if there is a moving inertial object which has **restoring forces** acting on it.\n",
    "\n",
    "Vibrations require:\n",
    "\n",
    "- inertial object that can move\n",
    "- restoring forces\n",
    "- equilibrium configuration"
   ]
  },
  {
   "cell_type": "markdown",
   "metadata": {},
   "source": [
    "During this class, we will examine and explore many different vibratory systems, such as this simple book on a mug system. We will have some live demos, as we are showing now, but in general we will work with computational representations of systems to experiment and learn about the nature of vibration."
   ]
  },
  {
   "cell_type": "markdown",
   "metadata": {},
   "source": [
    "## Python imports and setup\n",
    "\n",
    "This is boiler plate import code that makes all of the necessary libraries available for use and sets up some display setting for the notebook. In Python, all special functionality comes from importing different Python *modules* and *packages*."
   ]
  },
  {
   "cell_type": "code",
   "execution_count": 2,
   "metadata": {},
   "outputs": [],
   "source": [
    "import numpy as np\n",
    "import matplotlib.pyplot as plt"
   ]
  },
  {
   "cell_type": "code",
   "execution_count": 3,
   "metadata": {},
   "outputs": [],
   "source": [
    "# makes matplotlib plots show up in notebook and be interactive\n",
    "%matplotlib widget"
   ]
  },
  {
   "cell_type": "markdown",
   "metadata": {},
   "source": [
    "# Model Description"
   ]
  },
  {
   "cell_type": "markdown",
   "metadata": {},
   "source": [
    "For the purposes of the introduction we will assume you have come up with a simplified version of the conceptual mechanics that govern the system's motion. In this case there are several assumptions made.\n",
    "\n",
    "### Exercise\n",
    "\n",
    "If we want to learn specifically about how the book oscillates on the cup, what might be some good assumptions to make to simplify reality so that we can create a mathematical model?"
   ]
  },
  {
   "cell_type": "markdown",
   "metadata": {},
   "source": [
    "Here are the main assumptions I started with:\n",
    "\n",
    "- The book and the cup surfaces are perfectly shaped geometric entities.\n",
    "- The book rolls without slip on the cup's surface.\n",
    "- The book is a uniformly dense rectangle that only has planar motion.\n",
    "\n",
    "The essence of modeling is coming up with appropriate assumptions that let you describe the system in the simplest way such that the model's behavior is sufficient to answer your questions about the system. It is a skill that takes a lot of practice and you will get to practice this a fair amount in this class. A model may be good or it may be bad, depending on what we are hoping to predict. We will check its \"goodness\" in the analysis section.\n",
    "\n",
    "Below you will find a pre-determined **free body diagram** that can likely capture the essential vibratory motion of this system.\n",
    "\n",
    "<img src=\"balancing-book.svg\" alt=\"image\" width=\"600\" />"
   ]
  },
  {
   "cell_type": "markdown",
   "metadata": {},
   "source": [
    "- $l$: length of the book in meters\n",
    "- $d$: thickness of the book in meters\n",
    "- $r$: radius of the cup in meters\n",
    "- $m$: mass of the book in kilograms\n",
    "- $h$: height of the mass center above the cup's center plane\n",
    "- $\\theta(t)$: angle of the book in radians"
   ]
  },
  {
   "cell_type": "markdown",
   "metadata": {},
   "source": [
    "# Objective 1: Numerical Analysis of the Motion\n",
    "\n",
    "In this section we will make use of a premade **system** to handle the numerical evaluation of the equations of motion. The following cells load this system and name it `sys` so we can make use of it."
   ]
  },
  {
   "cell_type": "code",
   "execution_count": 4,
   "metadata": {},
   "outputs": [],
   "source": [
    "from book_balance import BookCupSystem"
   ]
  },
  {
   "cell_type": "code",
   "execution_count": 5,
   "metadata": {},
   "outputs": [],
   "source": [
    "sys = BookCupSystem()"
   ]
  },
  {
   "cell_type": "markdown",
   "metadata": {},
   "source": [
    "`sys` is now a new system object that you can interact with. This system has many variables and functions associated with it. You can see what the system has and can do by using the Python dot notation. Type `sys.` and press the tab key to see a list of all the variables and functions that are associated with this system."
   ]
  },
  {
   "cell_type": "markdown",
   "metadata": {},
   "source": [
    "## Analysis Step 1: Visualize the System's Configuration"
   ]
  },
  {
   "cell_type": "markdown",
   "metadata": {},
   "source": [
    "It is often very helpful to visualize a system's configuration. In this case we need a two dimensional drawing similar to the diagram above. The `plot_configuration()` function let's us see a simple visualization."
   ]
  },
  {
   "cell_type": "code",
   "execution_count": 6,
   "metadata": {},
   "outputs": [
    {
     "data": {
      "application/vnd.jupyter.widget-view+json": {
       "model_id": "ab12fa1a8058497e92ec8a6f1ec38bbe",
       "version_major": 2,
       "version_minor": 0
      },
      "text/plain": [
       "Canvas(toolbar=Toolbar(toolitems=[('Home', 'Reset original view', 'home', 'home'), ('Back', 'Back to previous …"
      ]
     },
     "metadata": {},
     "output_type": "display_data"
    }
   ],
   "source": [
    "sys.plot_configuration();"
   ]
  },
  {
   "cell_type": "markdown",
   "metadata": {},
   "source": [
    "### System constants\n",
    "\n",
    "One thing that systems have are different constants, for example this system has geometry, such as the book's thickness and length and the cup's radius. The book also has a mass and, in this case, an underlying assumption is that the book is uniformly dense. Note that all of these do not change with time, i.e. they are constant. You can view all of the constants, which are stored in a Python dictionary by typing:"
   ]
  },
  {
   "cell_type": "code",
   "execution_count": 7,
   "metadata": {},
   "outputs": [
    {
     "data": {
      "text/plain": [
       "{'d': 0.029, 'l': 0.238, 'r': 0.042, 'm': 1.058, 'g': 9.81}"
      ]
     },
     "execution_count": 7,
     "metadata": {},
     "output_type": "execute_result"
    }
   ],
   "source": [
    "sys.constants"
   ]
  },
  {
   "cell_type": "markdown",
   "metadata": {},
   "source": [
    "A Python dictionary maps keys, in this case the constant's names, to values, the numerical values you'd like to assign to the constant. For example the key `'l'`, for \"length\", is associated with a value `0.029`. An individual constant's value can be accessed by using square brackets:"
   ]
  },
  {
   "cell_type": "code",
   "execution_count": 8,
   "metadata": {},
   "outputs": [
    {
     "data": {
      "text/plain": [
       "0.238"
      ]
     },
     "execution_count": 8,
     "metadata": {},
     "output_type": "execute_result"
    }
   ],
   "source": [
    "sys.constants['l']"
   ]
  },
  {
   "cell_type": "markdown",
   "metadata": {},
   "source": [
    "You can set the values of the constants as such:"
   ]
  },
  {
   "cell_type": "code",
   "execution_count": 9,
   "metadata": {},
   "outputs": [
    {
     "data": {
      "text/plain": [
       "{'d': 0.029, 'l': 0.1, 'r': 0.042, 'm': 1.058, 'g': 9.81}"
      ]
     },
     "execution_count": 9,
     "metadata": {},
     "output_type": "execute_result"
    }
   ],
   "source": [
    "sys.constants['l'] = 0.1  # meters\n",
    "sys.constants"
   ]
  },
  {
   "cell_type": "code",
   "execution_count": 10,
   "metadata": {},
   "outputs": [
    {
     "data": {
      "application/vnd.jupyter.widget-view+json": {
       "model_id": "5cb256b8139446928076abcb6adadfea",
       "version_major": 2,
       "version_minor": 0
      },
      "text/plain": [
       "Canvas(toolbar=Toolbar(toolitems=[('Home', 'Reset original view', 'home', 'home'), ('Back', 'Back to previous …"
      ]
     },
     "metadata": {},
     "output_type": "display_data"
    }
   ],
   "source": [
    "sys.plot_configuration();"
   ]
  },
  {
   "cell_type": "markdown",
   "metadata": {},
   "source": [
    "Set the length constant back to it's original value before moving on."
   ]
  },
  {
   "cell_type": "code",
   "execution_count": 11,
   "metadata": {},
   "outputs": [],
   "source": [
    "sys.constants['l'] = 0.238  # meters"
   ]
  },
  {
   "cell_type": "markdown",
   "metadata": {},
   "source": [
    "### Coordinates\n",
    "\n",
    "There are other system values of interest too. Another very important type are those that vary with time.\n",
    "\n",
    "There are are an infinite number of time varying parameters, but it is often preferable to choose a uniquely simple set of time varying parameters, often called *generalized coordinates*. These coordinates define the **configuration** of the system. In our case, the vertical and horizontal location of the book's mass center could uniquely describe the configuration of the system (if the book can't slip on the cup). But a better choice would be to use the single time varying angle of the books surface relative to horizontal to define the configuration.\n",
    "\n",
    "The angle of the book is thus a generalized coordinate because no fewer number of time varying parameters can possibly be used to describe the configuration. For simple systems, the number of generalized coordinates corresponds to the number of *degrees of freedom* of a system. The degrees of freedom are the number of independent parameters that define the configuration. The non-slipping book on a cup has 1 degree of freedom which is described by the single generalized coordinate, the book's angle. The system's generalized coordinates can be accessed as such:"
   ]
  },
  {
   "cell_type": "code",
   "execution_count": 12,
   "metadata": {},
   "outputs": [
    {
     "data": {
      "text/plain": [
       "0.0"
      ]
     },
     "execution_count": 12,
     "metadata": {},
     "output_type": "execute_result"
    }
   ],
   "source": [
    "sys.coordinates['theta']"
   ]
  },
  {
   "cell_type": "code",
   "execution_count": 13,
   "metadata": {},
   "outputs": [],
   "source": [
    "sys.coordinates['theta'] = np.deg2rad(10)  # radians"
   ]
  },
  {
   "cell_type": "code",
   "execution_count": 14,
   "metadata": {},
   "outputs": [
    {
     "data": {
      "application/vnd.jupyter.widget-view+json": {
       "model_id": "7ca2f56bf1274eb6876cdf0076701bfa",
       "version_major": 2,
       "version_minor": 0
      },
      "text/plain": [
       "Canvas(toolbar=Toolbar(toolitems=[('Home', 'Reset original view', 'home', 'home'), ('Back', 'Back to previous …"
      ]
     },
     "metadata": {},
     "output_type": "display_data"
    }
   ],
   "source": [
    "sys.plot_configuration();"
   ]
  },
  {
   "cell_type": "markdown",
   "metadata": {},
   "source": [
    "### Exercise\n",
    "\n",
    "Change the system's `constants` and `coordinates` and plot the configuration to see how the coordinates relate to the visual depiction."
   ]
  },
  {
   "cell_type": "markdown",
   "metadata": {},
   "source": [
    "*Note that you will be responsible for ensuring that the units are consistent and that all angles should be in radians. Best to stick with SI units.*"
   ]
  },
  {
   "cell_type": "code",
   "execution_count": 15,
   "metadata": {},
   "outputs": [],
   "source": [
    "# write your answer here"
   ]
  },
  {
   "cell_type": "markdown",
   "metadata": {},
   "source": [
    "## Free Response\n",
    "\n",
    "Now that we have a system with a defined equation of motion. There are two ways to create this motion: apply perturbing forces to the system or set the coordinate to an initial angle other than the equilibrium angle. We will do the later here. The resulting motion is called the **free response** of the system or the solution to the **initial value problem**, meaning that no external forces are causing the motion. To simulate the free response of the system, some values of time are needed. In this case a final time value, effectively the duration, is passed into the `free_response()` function. First, set the initial angle of the book and then call `free_response()`, storing the returned result in a variable named `trajectories` :"
   ]
  },
  {
   "cell_type": "code",
   "execution_count": 16,
   "metadata": {},
   "outputs": [],
   "source": [
    "sys.coordinates['theta'] = np.deg2rad(1)"
   ]
  },
  {
   "cell_type": "code",
   "execution_count": 17,
   "metadata": {},
   "outputs": [],
   "source": [
    "trajectories = sys.free_response(5.0)"
   ]
  },
  {
   "cell_type": "markdown",
   "metadata": {},
   "source": [
    "This creates what is called a [data frame](https://pandas.pydata.org/pandas-docs/stable/generated/pandas.DataFrame.html). Data frames are defined in the [Pandas](http://pandas.pydata.org/) Python package and are one of the most common Python data types. They are essentially a 2D table with labels for each column and an index for each row. In our case the index is the time value and the columns are the values of the coordinates and the measurements at that particular time:"
   ]
  },
  {
   "cell_type": "code",
   "execution_count": 18,
   "metadata": {},
   "outputs": [
    {
     "data": {
      "text/plain": [
       "pandas.core.frame.DataFrame"
      ]
     },
     "execution_count": 18,
     "metadata": {},
     "output_type": "execute_result"
    }
   ],
   "source": [
    "type(trajectories)"
   ]
  },
  {
   "cell_type": "code",
   "execution_count": 19,
   "metadata": {},
   "outputs": [
    {
     "data": {
      "text/html": [
       "<div>\n",
       "<style scoped>\n",
       "    .dataframe tbody tr th:only-of-type {\n",
       "        vertical-align: middle;\n",
       "    }\n",
       "\n",
       "    .dataframe tbody tr th {\n",
       "        vertical-align: top;\n",
       "    }\n",
       "\n",
       "    .dataframe thead th {\n",
       "        text-align: right;\n",
       "    }\n",
       "</style>\n",
       "<table border=\"1\" class=\"dataframe\">\n",
       "  <thead>\n",
       "    <tr style=\"text-align: right;\">\n",
       "      <th></th>\n",
       "      <th>theta</th>\n",
       "      <th>theta_acc</th>\n",
       "      <th>omega</th>\n",
       "      <th>bottom_left_x</th>\n",
       "      <th>bottom_left_y</th>\n",
       "    </tr>\n",
       "    <tr>\n",
       "      <th>time</th>\n",
       "      <th></th>\n",
       "      <th></th>\n",
       "      <th></th>\n",
       "      <th></th>\n",
       "      <th></th>\n",
       "    </tr>\n",
       "  </thead>\n",
       "  <tbody>\n",
       "    <tr>\n",
       "      <th>0.00</th>\n",
       "      <td>0.017453</td>\n",
       "      <td>-0.941272</td>\n",
       "      <td>0.000000</td>\n",
       "      <td>-0.118982</td>\n",
       "      <td>0.086083</td>\n",
       "    </tr>\n",
       "    <tr>\n",
       "      <th>0.01</th>\n",
       "      <td>0.017406</td>\n",
       "      <td>-0.938737</td>\n",
       "      <td>-0.009404</td>\n",
       "      <td>-0.118982</td>\n",
       "      <td>0.086078</td>\n",
       "    </tr>\n",
       "    <tr>\n",
       "      <th>0.02</th>\n",
       "      <td>0.017265</td>\n",
       "      <td>-0.931146</td>\n",
       "      <td>-0.018758</td>\n",
       "      <td>-0.118982</td>\n",
       "      <td>0.086061</td>\n",
       "    </tr>\n",
       "    <tr>\n",
       "      <th>0.03</th>\n",
       "      <td>0.017031</td>\n",
       "      <td>-0.918539</td>\n",
       "      <td>-0.028010</td>\n",
       "      <td>-0.118983</td>\n",
       "      <td>0.086033</td>\n",
       "    </tr>\n",
       "    <tr>\n",
       "      <th>0.04</th>\n",
       "      <td>0.016706</td>\n",
       "      <td>-0.900984</td>\n",
       "      <td>-0.037112</td>\n",
       "      <td>-0.118983</td>\n",
       "      <td>0.085994</td>\n",
       "    </tr>\n",
       "    <tr>\n",
       "      <th>...</th>\n",
       "      <td>...</td>\n",
       "      <td>...</td>\n",
       "      <td>...</td>\n",
       "      <td>...</td>\n",
       "      <td>...</td>\n",
       "    </tr>\n",
       "    <tr>\n",
       "      <th>4.96</th>\n",
       "      <td>0.005136</td>\n",
       "      <td>-0.277092</td>\n",
       "      <td>0.122510</td>\n",
       "      <td>-0.118998</td>\n",
       "      <td>0.084612</td>\n",
       "    </tr>\n",
       "    <tr>\n",
       "      <th>4.97</th>\n",
       "      <td>0.006346</td>\n",
       "      <td>-0.342374</td>\n",
       "      <td>0.119411</td>\n",
       "      <td>-0.118998</td>\n",
       "      <td>0.084756</td>\n",
       "    </tr>\n",
       "    <tr>\n",
       "      <th>4.98</th>\n",
       "      <td>0.007522</td>\n",
       "      <td>-0.405807</td>\n",
       "      <td>0.115668</td>\n",
       "      <td>-0.118997</td>\n",
       "      <td>0.084896</td>\n",
       "    </tr>\n",
       "    <tr>\n",
       "      <th>4.99</th>\n",
       "      <td>0.008657</td>\n",
       "      <td>-0.467047</td>\n",
       "      <td>0.111302</td>\n",
       "      <td>-0.118996</td>\n",
       "      <td>0.085032</td>\n",
       "    </tr>\n",
       "    <tr>\n",
       "      <th>5.00</th>\n",
       "      <td>0.009746</td>\n",
       "      <td>-0.525765</td>\n",
       "      <td>0.106336</td>\n",
       "      <td>-0.118994</td>\n",
       "      <td>0.085162</td>\n",
       "    </tr>\n",
       "  </tbody>\n",
       "</table>\n",
       "<p>501 rows × 5 columns</p>\n",
       "</div>"
      ],
      "text/plain": [
       "         theta  theta_acc     omega  bottom_left_x  bottom_left_y\n",
       "time                                                             \n",
       "0.00  0.017453  -0.941272  0.000000      -0.118982       0.086083\n",
       "0.01  0.017406  -0.938737 -0.009404      -0.118982       0.086078\n",
       "0.02  0.017265  -0.931146 -0.018758      -0.118982       0.086061\n",
       "0.03  0.017031  -0.918539 -0.028010      -0.118983       0.086033\n",
       "0.04  0.016706  -0.900984 -0.037112      -0.118983       0.085994\n",
       "...        ...        ...       ...            ...            ...\n",
       "4.96  0.005136  -0.277092  0.122510      -0.118998       0.084612\n",
       "4.97  0.006346  -0.342374  0.119411      -0.118998       0.084756\n",
       "4.98  0.007522  -0.405807  0.115668      -0.118997       0.084896\n",
       "4.99  0.008657  -0.467047  0.111302      -0.118996       0.085032\n",
       "5.00  0.009746  -0.525765  0.106336      -0.118994       0.085162\n",
       "\n",
       "[501 rows x 5 columns]"
      ]
     },
     "execution_count": 19,
     "metadata": {},
     "output_type": "execute_result"
    }
   ],
   "source": [
    "trajectories"
   ]
  },
  {
   "cell_type": "code",
   "execution_count": 20,
   "metadata": {},
   "outputs": [
    {
     "data": {
      "text/plain": [
       "Float64Index([ 0.0, 0.01, 0.02, 0.03, 0.04, 0.05, 0.06, 0.07, 0.08, 0.09,\n",
       "              ...\n",
       "              4.91, 4.92, 4.93, 4.94, 4.95, 4.96, 4.97, 4.98, 4.99,  5.0],\n",
       "             dtype='float64', name='time', length=501)"
      ]
     },
     "execution_count": 20,
     "metadata": {},
     "output_type": "execute_result"
    }
   ],
   "source": [
    "trajectories.index"
   ]
  },
  {
   "cell_type": "code",
   "execution_count": 21,
   "metadata": {},
   "outputs": [
    {
     "data": {
      "text/plain": [
       "time\n",
       "0.00    0.017453\n",
       "0.01    0.017406\n",
       "0.02    0.017265\n",
       "0.03    0.017031\n",
       "0.04    0.016706\n",
       "          ...   \n",
       "4.96    0.005136\n",
       "4.97    0.006346\n",
       "4.98    0.007522\n",
       "4.99    0.008657\n",
       "5.00    0.009746\n",
       "Name: theta, Length: 501, dtype: float64"
      ]
     },
     "execution_count": 21,
     "metadata": {},
     "output_type": "execute_result"
    }
   ],
   "source": [
    "trajectories.theta"
   ]
  },
  {
   "cell_type": "markdown",
   "metadata": {},
   "source": [
    "The data frames have useful plotting functions associated with them, so it is rather easy to plot the various coordinates and measurements versus time:"
   ]
  },
  {
   "cell_type": "code",
   "execution_count": 22,
   "metadata": {},
   "outputs": [
    {
     "data": {
      "application/vnd.jupyter.widget-view+json": {
       "model_id": "9a8a0f35386f4c1890f1187744f0c898",
       "version_major": 2,
       "version_minor": 0
      },
      "text/plain": [
       "Canvas(toolbar=Toolbar(toolitems=[('Home', 'Reset original view', 'home', 'home'), ('Back', 'Back to previous …"
      ]
     },
     "metadata": {},
     "output_type": "display_data"
    }
   ],
   "source": [
    "trajectories.plot(subplots=True);"
   ]
  },
  {
   "cell_type": "markdown",
   "metadata": {},
   "source": [
    "### Exercise\n",
    "\n",
    "What is the period of oscillation if the book's length, $l$, is $0.1$ m and $0.3$ m? Simulate the system and use the zoom and cross hair feature in the plot to find out."
   ]
  },
  {
   "cell_type": "code",
   "execution_count": 23,
   "metadata": {},
   "outputs": [],
   "source": [
    "# write answer here"
   ]
  },
  {
   "cell_type": "markdown",
   "metadata": {},
   "source": [
    "### Exercise\n",
    "\n",
    "Investigate each constant individually by varying the values. Determine which constants affect the amplitude and period of oscillation and how they are affected. If you increase/decrease a constant do you see increase/decreases in amplitude and/or period?"
   ]
  },
  {
   "cell_type": "code",
   "execution_count": 24,
   "metadata": {},
   "outputs": [],
   "source": [
    "# write answer here"
   ]
  },
  {
   "cell_type": "markdown",
   "metadata": {},
   "source": [
    "## Analysis Step 3: Animating The Motion\n",
    "\n",
    "Now that we we have a time varying response, we can animate the configuration figure to visualize how the system moves. Use the `animate_configuration()` function to do so:"
   ]
  },
  {
   "cell_type": "code",
   "execution_count": 25,
   "metadata": {},
   "outputs": [
    {
     "data": {
      "application/vnd.jupyter.widget-view+json": {
       "model_id": "1152bb90bc704dd1a29cadd8adeac8a3",
       "version_major": 2,
       "version_minor": 0
      },
      "text/plain": [
       "Canvas(toolbar=Toolbar(toolitems=[('Home', 'Reset original view', 'home', 'home'), ('Back', 'Back to previous …"
      ]
     },
     "metadata": {},
     "output_type": "display_data"
    },
    {
     "data": {
      "text/plain": [
       "<matplotlib.animation.FuncAnimation at 0x7fe39a56c278>"
      ]
     },
     "execution_count": 25,
     "metadata": {},
     "output_type": "execute_result"
    }
   ],
   "source": [
    "sys = BookCupSystem()\n",
    "sys.coordinates['theta'] = np.deg2rad(1)\n",
    "sys.free_response(5.0)\n",
    "sys.animate_configuration(fps=10, repeat=False)"
   ]
  },
  {
   "cell_type": "markdown",
   "metadata": {},
   "source": [
    "### Exercise\n",
    "\n",
    "Try out changing a constant, generating a new free response, and then animating the motion."
   ]
  },
  {
   "cell_type": "code",
   "execution_count": 26,
   "metadata": {},
   "outputs": [],
   "source": [
    "# write answer here"
   ]
  },
  {
   "cell_type": "markdown",
   "metadata": {},
   "source": [
    "## Analysis Step 4: Validation Of the Simulation\n",
    "\n",
    "Now that we have some data produced from the simulation we can see how it compares to what we can measure in real life.\n"
   ]
  },
  {
   "cell_type": "markdown",
   "metadata": {},
   "source": [
    "### Exercise\n",
    "\n",
    "There are some books of various sizes and some coffee cups available. Select one with some other students, measure its dimensions, the book's mass, and time its period of oscillation. If you set your constants to those that you measuured, does the free response give a good estimate of the period?"
   ]
  },
  {
   "cell_type": "code",
   "execution_count": 27,
   "metadata": {},
   "outputs": [],
   "source": [
    "# write answer here"
   ]
  },
  {
   "cell_type": "markdown",
   "metadata": {},
   "source": [
    "# Objective 2: Design\n",
    "\n",
    "When designing vibrating systems, the desired outcome is a specific motion (including the possibilty of no motion) when the system is subjected to some initial conditions and some externally applied forces. The designer has the freedom to manipulate many aspects of the system, for example: degrees of freedom, kinematic relationships, mass/inertia, stiffness, damping, geometry, etc. Given an existing system, one approach to design is to manipulate the constants (mass, stiffness, geometry) to obtain a desired motion.\n",
    "\n",
    "In general, vibrating systems can be **stable** or **unstable**. A system is stable if it osciallates about its equilibrium and the amplitude stays constant or decreases over time. An unstable system's apmplitude grows unbounded over time. It is almost always desirable for a system to be stable. The goal in this section will be to determine how the parameters of the book/cup system relate to the system's stability. "
   ]
  },
  {
   "cell_type": "markdown",
   "metadata": {},
   "source": [
    "Imagine glueing three books together in a stack and balancing them on the standard coffee mug. If you give an initial angle of 5 degrees what happens?"
   ]
  },
  {
   "cell_type": "code",
   "execution_count": 28,
   "metadata": {},
   "outputs": [
    {
     "data": {
      "text/plain": [
       "{'d': 0.029, 'l': 0.238, 'r': 0.042, 'm': 1.058, 'g': 9.81}"
      ]
     },
     "execution_count": 28,
     "metadata": {},
     "output_type": "execute_result"
    }
   ],
   "source": [
    "sys = BookCupSystem()\n",
    "sys.constants"
   ]
  },
  {
   "cell_type": "code",
   "execution_count": 29,
   "metadata": {},
   "outputs": [],
   "source": [
    "sys.constants['d'] = 3 * 0.029  # m"
   ]
  },
  {
   "cell_type": "code",
   "execution_count": 30,
   "metadata": {},
   "outputs": [],
   "source": [
    "sys.coordinates['theta'] = np.deg2rad(5)"
   ]
  },
  {
   "cell_type": "code",
   "execution_count": 31,
   "metadata": {},
   "outputs": [],
   "source": [
    "traj = sys.free_response(5.0)"
   ]
  },
  {
   "cell_type": "code",
   "execution_count": 32,
   "metadata": {},
   "outputs": [
    {
     "data": {
      "application/vnd.jupyter.widget-view+json": {
       "model_id": "e1766a1dfe7f4c668d00856e84958dbf",
       "version_major": 2,
       "version_minor": 0
      },
      "text/plain": [
       "Canvas(toolbar=Toolbar(toolitems=[('Home', 'Reset original view', 'home', 'home'), ('Back', 'Back to previous …"
      ]
     },
     "metadata": {},
     "output_type": "display_data"
    }
   ],
   "source": [
    "traj.plot(subplots=True);"
   ]
  },
  {
   "cell_type": "code",
   "execution_count": 33,
   "metadata": {},
   "outputs": [
    {
     "data": {
      "application/vnd.jupyter.widget-view+json": {
       "model_id": "ccc062347a424a06a4a89fe02fcb23ea",
       "version_major": 2,
       "version_minor": 0
      },
      "text/plain": [
       "Canvas(toolbar=Toolbar(toolitems=[('Home', 'Reset original view', 'home', 'home'), ('Back', 'Back to previous …"
      ]
     },
     "metadata": {},
     "output_type": "display_data"
    }
   ],
   "source": [
    "animation = sys.animate_configuration(fps=10, repeat=False)"
   ]
  },
  {
   "cell_type": "markdown",
   "metadata": {},
   "source": [
    "### Exercise\n",
    "\n",
    "Is this model a valid model in this scenario?"
   ]
  },
  {
   "cell_type": "markdown",
   "metadata": {},
   "source": [
    "write answer here"
   ]
  },
  {
   "cell_type": "markdown",
   "metadata": {},
   "source": [
    "### Exercise\n",
    "\n",
    "Is there of a cup radius that ensures the three books vibrates stably on the cup (i.e. doesn't fall off)?\n",
    "\n",
    "Execute the following cells and a slider will appear, allowing you to see how changing the cup's radius affects the angle trajectory. See if you can find any values of radius that ensure a stable oscillation.\n",
    "\n",
    "Secondly, find the radius of the cup that will cause the period of oscillation to be 1 second, them maybe we can use this as a clock.\n",
    "\n",
    "Feel free to animate the system if you happen to find a value."
   ]
  },
  {
   "cell_type": "code",
   "execution_count": 34,
   "metadata": {},
   "outputs": [],
   "source": [
    "from ipywidgets import interact, FloatSlider"
   ]
  },
  {
   "cell_type": "code",
   "execution_count": 35,
   "metadata": {},
   "outputs": [
    {
     "data": {
      "application/vnd.jupyter.widget-view+json": {
       "model_id": "4008c3d0e7a74846a729cb0c7688eca6",
       "version_major": 2,
       "version_minor": 0
      },
      "text/plain": [
       "Canvas(toolbar=Toolbar(toolitems=[('Home', 'Reset original view', 'home', 'home'), ('Back', 'Back to previous …"
      ]
     },
     "metadata": {},
     "output_type": "display_data"
    }
   ],
   "source": [
    "fig, ax = plt.subplots(1, 1)\n",
    "\n",
    "line = ax.plot(traj.index, np.rad2deg(traj.theta))[0]\n",
    "\n",
    "ax.set_xlabel('Time [s]')\n",
    "ax.set_ylabel(r'$\\theta$ [deg]')\n",
    "\n",
    "ax.set_ylim((-90, 90))\n",
    "\n",
    "def update_line(r=0.042):\n",
    "    sys.constants['r'] = r\n",
    "    traj = sys.free_response(5.0)\n",
    "    line.set_data(traj.index, np.rad2deg(traj.theta))"
   ]
  },
  {
   "cell_type": "code",
   "execution_count": 36,
   "metadata": {},
   "outputs": [
    {
     "data": {
      "application/vnd.jupyter.widget-view+json": {
       "model_id": "a4eda12d30e14601b577fa312ef295db",
       "version_major": 2,
       "version_minor": 0
      },
      "text/plain": [
       "interactive(children=(FloatSlider(value=0.042, description='r', max=0.1, readout_format='.3f', step=0.005), Ou…"
      ]
     },
     "metadata": {},
     "output_type": "display_data"
    }
   ],
   "source": [
    "widget = interact(update_line, r=FloatSlider(value=0.042, min=0.0, max=0.1, step=0.005, readout_format='.3f'))"
   ]
  },
  {
   "cell_type": "code",
   "execution_count": 37,
   "metadata": {},
   "outputs": [],
   "source": [
    "# write your answer here"
   ]
  },
  {
   "cell_type": "markdown",
   "metadata": {},
   "source": [
    "The mug radius can be considered a \"design parameter\", i.e. something an engineering could change, to get the desired behavior. This is a simple example of meeting a design criteria, \"stability\", with a predictive model."
   ]
  },
  {
   "cell_type": "markdown",
   "metadata": {},
   "source": [
    "# Objective 3: Modeling\n",
    "\n",
    "\n",
    "*Modeling* is the development of a simple abstraction of reality that can be used for predictive purposes. Models are often mathematical but come in many forms. We will work with mathematical and computational models here."
   ]
  },
  {
   "cell_type": "markdown",
   "metadata": {},
   "source": [
    "## Modeling Step 1: Make Assumptions and Free Body Diagram\n",
    "\n",
    "We have given this to you above. More on this step will be developed in class.\n",
    "\n",
    "<img src=\"balancing-book.svg\" alt=\"image\" width=\"600\" />"
   ]
  },
  {
   "cell_type": "markdown",
   "metadata": {},
   "source": [
    "## Modeling Step 2: Write the kinetic and potential energy of the system"
   ]
  },
  {
   "cell_type": "markdown",
   "metadata": {},
   "source": [
    "Once we have a conceptual model, the next task is to form the mathematical equations of motion of the system. These equations most often differential equations that follow [Newton's Laws of Motion](https://en.wikipedia.org/wiki/Newton%27s_laws_of_motion) and are typically expressed in the form of the linear (or translational) equation:\n",
    "\n",
    "$$ \\sum F = ma $$\n",
    "\n",
    "$$ \\sum \\textrm{forces} = \\textrm{mass} \\cdot \\textrm{acceleration} $$\n",
    "\n",
    "and a rotational equation (Euler's equation):\n",
    "\n",
    "$$ \\sum T = I\\alpha $$\n",
    "\n",
    "$$ \\sum \\textrm{torque} = \\textrm{inertia} \\cdot \\textrm{angular acceleration} $$\n",
    "\n",
    "We will use **[Lagrange's method](https://en.wikipedia.org/wiki/Lagrangian_mechanics)** of forming the equations of motion of vibrating systems in this class. Lagrange's method is equivalent to the Newton-Euler approach of forming $F=ma$ and $T=I\\alpha$ but is often a simpler approach due to only having to determine the total **kinetic and potential energy** of the system."
   ]
  },
  {
   "cell_type": "markdown",
   "metadata": {},
   "source": [
    "### Kinetic energy\n",
    "\n",
    "The total kinetic energy is the sum of the translational kinetic energy:\n",
    "\n",
    "$$\n",
    "T_{tran} = \\frac{1}{2}mv^2\n",
    "$$\n",
    "\n",
    "where:\n",
    "\n",
    "- $m$: total mass of the moving object\n",
    "- $v$: magnitude of the translational velocity of the mass center of the object\n",
    "\n",
    "and rotational kinetic energy:\n",
    "\n",
    "$$\n",
    "T_{rot} = \\frac{1}{2}I\\dot{\\theta}^2\n",
    "$$\n",
    "\n",
    "- $I$: moment of inertia of the moving object with respect to the mass center\n",
    "- $\\dot{\\theta}$: the magnitude of the angular velocity of the moving object\n",
    "\n",
    "$$\n",
    "T = T_{tran} + T_{rot}\n",
    "$$"
   ]
  },
  {
   "cell_type": "markdown",
   "metadata": {},
   "source": [
    "### Potential energy\n",
    "\n",
    "The potential energy relates to a conservative restoring forces. In our case, only the force due to gravity creates potential energy. The higher the mass center of the object raises, the more potential energy it has.\n",
    "\n",
    "$$\n",
    "U = mgh\n",
    "$$\n",
    "\n",
    "where:\n",
    "\n",
    "- $m$: total mass of the moving object\n",
    "- $g$: acceleration due to gravity\n",
    "- $h$: the change in height with respect to some stationary reference point"
   ]
  },
  {
   "cell_type": "markdown",
   "metadata": {},
   "source": [
    "### Finding the velocity and the height\n",
    "\n",
    "The book oscillates at an angular rate, $\\dot{\\theta}$, and the magnitude of the velocity of the center of mass of the book can be shown to be:\n",
    "\n",
    "$$v = \\frac{1}{2} \\sqrt{(d^2 + 4 r^2 \\theta^2) \\dot{\\theta}^{2}}$$\n",
    "\n",
    "The height above the center of the circle can be shown to be:\n",
    "\n",
    "$$h = \\left(r + \\frac{d}{2}\\right) \\cos\\theta + r \\theta \\sin\\theta$$"
   ]
  },
  {
   "cell_type": "markdown",
   "metadata": {},
   "source": [
    "Given the expressions for the magnitude of the translational and angular velocities and the height of the mass center of mass of the moving book we will write symbolic expressions using SymPy which can be accessed via `sm.` using Python's dot notation. For example, you will need `sm.sin()` and `sm.cos()`, the symbolic sine and cosine functions."
   ]
  },
  {
   "cell_type": "markdown",
   "metadata": {},
   "source": [
    "First create a function of time like so:"
   ]
  },
  {
   "cell_type": "code",
   "execution_count": 38,
   "metadata": {},
   "outputs": [],
   "source": [
    "import sympy as sm\n",
    "sm.init_printing()  # makes SymPy display as pretty math"
   ]
  },
  {
   "cell_type": "code",
   "execution_count": 39,
   "metadata": {},
   "outputs": [],
   "source": [
    "from book_balance import print_eq, eom_in_first_order_form"
   ]
  },
  {
   "cell_type": "code",
   "execution_count": 40,
   "metadata": {},
   "outputs": [],
   "source": [
    "t = sm.symbols('t')"
   ]
  },
  {
   "cell_type": "code",
   "execution_count": 41,
   "metadata": {},
   "outputs": [],
   "source": [
    "theta = sm.Function('theta')(t)"
   ]
  },
  {
   "cell_type": "markdown",
   "metadata": {},
   "source": [
    "Create symbols for the system's constants (mass, geometry, etc.):"
   ]
  },
  {
   "cell_type": "code",
   "execution_count": 42,
   "metadata": {},
   "outputs": [],
   "source": [
    "d, l, r, m, g = sm.symbols('d, l, r, m, g') "
   ]
  },
  {
   "cell_type": "markdown",
   "metadata": {},
   "source": [
    "Now using SymPy functions, i.e. `sm.<function name>()`, you can create and display mathematical equations. Notice that you can take time derivatives with `sm.diff()`:"
   ]
  },
  {
   "cell_type": "code",
   "execution_count": 43,
   "metadata": {},
   "outputs": [],
   "source": [
    "v = sm.sqrt((d**2 + 4 * r**2 * theta**2) * sm.diff(theta, t)**2) / 2"
   ]
  },
  {
   "cell_type": "code",
   "execution_count": 44,
   "metadata": {},
   "outputs": [
    {
     "data": {
      "image/png": "[encoded data removed]",
      "text/latex": [
       "$\\displaystyle v = \\frac{\\sqrt{\\left(d^{2} + 4 r^{2} \\theta^{2}{\\left(t \\right)}\\right) \\left(\\frac{d}{d t} \\theta{\\left(t \\right)}\\right)^{2}}}{2}$"
      ],
      "text/plain": [
       "         _______________________________\n",
       "        ╱                             2 \n",
       "       ╱  ⎛ 2      2  2   ⎞ ⎛d       ⎞  \n",
       "      ╱   ⎝d  + 4⋅r ⋅θ (t)⎠⋅⎜──(θ(t))⎟  \n",
       "    ╲╱                      ⎝dt      ⎠  \n",
       "v = ────────────────────────────────────\n",
       "                     2                  "
      ]
     },
     "execution_count": 44,
     "metadata": {},
     "output_type": "execute_result"
    }
   ],
   "source": [
    "print_eq('v', v)"
   ]
  },
  {
   "cell_type": "code",
   "execution_count": 45,
   "metadata": {},
   "outputs": [],
   "source": [
    "h = (r + d/2) * sm.cos(theta) + r * theta * sm.sin(theta)"
   ]
  },
  {
   "cell_type": "code",
   "execution_count": 46,
   "metadata": {},
   "outputs": [
    {
     "data": {
      "image/png": "[encoded data removed]",
      "text/latex": [
       "$\\displaystyle h = r \\theta{\\left(t \\right)} \\sin{\\left(\\theta{\\left(t \\right)} \\right)} + \\left(\\frac{d}{2} + r\\right) \\cos{\\left(\\theta{\\left(t \\right)} \\right)}$"
      ],
      "text/plain": [
       "                       ⎛d    ⎞          \n",
       "h = r⋅θ(t)⋅sin(θ(t)) + ⎜─ + r⎟⋅cos(θ(t))\n",
       "                       ⎝2    ⎠          "
      ]
     },
     "execution_count": 46,
     "metadata": {},
     "output_type": "execute_result"
    }
   ],
   "source": [
    "print_eq('h', h)"
   ]
  },
  {
   "cell_type": "markdown",
   "metadata": {},
   "source": [
    "### Exercise\n",
    "\n",
    "Look up the moment of inertia of a rectangle with respect to its geometric center (also it's center of mass under our uniformly dense assumption) and rotation about its longest axis:\n",
    "\n",
    "https://en.wikipedia.org/wiki/List_of_moments_of_inertia\n",
    "\n",
    "Create a symbolic expression in terms of our variables (see free body diagram) and assign it to the variable `I`.\n",
    "\n",
    "**Note**: In Python use `**` to raise a value to a power, not `^`."
   ]
  },
  {
   "cell_type": "code",
   "execution_count": 47,
   "metadata": {},
   "outputs": [],
   "source": [
    "# write your answer here, I = ..."
   ]
  },
  {
   "cell_type": "code",
   "execution_count": 48,
   "metadata": {
    "jupyter": {
     "source_hidden": true
    }
   },
   "outputs": [],
   "source": [
    "I = m / 12 * (d**2 + l**2)"
   ]
  },
  {
   "cell_type": "code",
   "execution_count": 49,
   "metadata": {},
   "outputs": [
    {
     "data": {
      "image/png": "[encoded data removed]",
      "text/latex": [
       "$\\displaystyle I = \\frac{m \\left(d^{2} + l^{2}\\right)}{12}$"
      ],
      "text/plain": [
       "      ⎛ 2    2⎞\n",
       "    m⋅⎝d  + l ⎠\n",
       "I = ───────────\n",
       "         12    "
      ]
     },
     "execution_count": 49,
     "metadata": {},
     "output_type": "execute_result"
    }
   ],
   "source": [
    "print_eq('I', I)"
   ]
  },
  {
   "cell_type": "markdown",
   "metadata": {},
   "source": [
    "### Exercise\n",
    "\n",
    "Write a symbolic expression for the sum of the translational and rotational kinetic energy and store it in the variable `T`."
   ]
  },
  {
   "cell_type": "code",
   "execution_count": 50,
   "metadata": {},
   "outputs": [],
   "source": [
    "# write your answer here, T = ..."
   ]
  },
  {
   "cell_type": "code",
   "execution_count": 51,
   "metadata": {
    "jupyter": {
     "source_hidden": true
    }
   },
   "outputs": [],
   "source": [
    "T = m * v**2 / 2 + I * sm.diff(theta, t)**2 / 2"
   ]
  },
  {
   "cell_type": "code",
   "execution_count": 52,
   "metadata": {},
   "outputs": [
    {
     "data": {
      "image/png": "[encoded data removed]",
      "text/latex": [
       "$\\displaystyle T = \\frac{m \\left(d^{2} + l^{2}\\right) \\left(\\frac{d}{d t} \\theta{\\left(t \\right)}\\right)^{2}}{24} + \\frac{m \\left(d^{2} + 4 r^{2} \\theta^{2}{\\left(t \\right)}\\right) \\left(\\frac{d}{d t} \\theta{\\left(t \\right)}\\right)^{2}}{8}$"
      ],
      "text/plain": [
       "                          2                                 2\n",
       "      ⎛ 2    2⎞ ⎛d       ⎞      ⎛ 2      2  2   ⎞ ⎛d       ⎞ \n",
       "    m⋅⎝d  + l ⎠⋅⎜──(θ(t))⎟    m⋅⎝d  + 4⋅r ⋅θ (t)⎠⋅⎜──(θ(t))⎟ \n",
       "                ⎝dt      ⎠                        ⎝dt      ⎠ \n",
       "T = ─────────────────────── + ───────────────────────────────\n",
       "               24                            8               "
      ]
     },
     "execution_count": 52,
     "metadata": {},
     "output_type": "execute_result"
    }
   ],
   "source": [
    "print_eq('T', T)"
   ]
  },
  {
   "cell_type": "markdown",
   "metadata": {},
   "source": [
    "### Exercise\n",
    "\n",
    "Write a symbolic expression for the potential energy and store it in the variable `U`."
   ]
  },
  {
   "cell_type": "code",
   "execution_count": 53,
   "metadata": {},
   "outputs": [],
   "source": [
    "# Write your answer here, U = ..."
   ]
  },
  {
   "cell_type": "code",
   "execution_count": 54,
   "metadata": {
    "jupyter": {
     "source_hidden": true
    }
   },
   "outputs": [],
   "source": [
    "U = m * g * h"
   ]
  },
  {
   "cell_type": "code",
   "execution_count": 55,
   "metadata": {},
   "outputs": [
    {
     "data": {
      "image/png": "[encoded data removed]",
      "text/latex": [
       "$\\displaystyle U = g m \\left(r \\theta{\\left(t \\right)} \\sin{\\left(\\theta{\\left(t \\right)} \\right)} + \\left(\\frac{d}{2} + r\\right) \\cos{\\left(\\theta{\\left(t \\right)} \\right)}\\right)$"
      ],
      "text/plain": [
       "        ⎛                   ⎛d    ⎞          ⎞\n",
       "U = g⋅m⋅⎜r⋅θ(t)⋅sin(θ(t)) + ⎜─ + r⎟⋅cos(θ(t))⎟\n",
       "        ⎝                   ⎝2    ⎠          ⎠"
      ]
     },
     "execution_count": 55,
     "metadata": {},
     "output_type": "execute_result"
    }
   ],
   "source": [
    "print_eq('U', U)"
   ]
  },
  {
   "cell_type": "markdown",
   "metadata": {},
   "source": [
    "## Modeling Step 3: Form the equations of motion"
   ]
  },
  {
   "cell_type": "markdown",
   "metadata": {},
   "source": [
    "The Newton-Euler equations of motion are in second order form, i.e. second time derivative of the angular position. We will need them to be in explicit first order form. To put the systems in to explicit first order form, we will need to introduce a new variable called a generalized speed. We define this variable as:\n",
    "\n",
    "$$\\omega = \\frac{d\\theta}{dt}$$\n",
    "\n",
    "and it becomes the first of our two differential equations of motion."
   ]
  },
  {
   "cell_type": "code",
   "execution_count": 56,
   "metadata": {},
   "outputs": [],
   "source": [
    "omega = sm.Function('omega')(t)"
   ]
  },
  {
   "cell_type": "markdown",
   "metadata": {},
   "source": [
    "The following function is a bit \"magic\" in the sense that all you know is that it takes the kinetic and potential energy and returns the equations of motion. We will learn how this happens further into the class."
   ]
  },
  {
   "cell_type": "code",
   "execution_count": 57,
   "metadata": {},
   "outputs": [
    {
     "data": {
      "image/png": "[encoded data removed]",
      "text/latex": [
       "$\\displaystyle \\left[\\begin{matrix}\\frac{d}{d t} \\theta{\\left(t \\right)}\\\\\\frac{d}{d t} \\omega{\\left(t \\right)}\\end{matrix}\\right] = \\left[\\begin{matrix}\\omega{\\left(t \\right)}\\\\\\frac{6 d g \\sin{\\left(\\theta{\\left(t \\right)} \\right)} - 12 g r \\theta{\\left(t \\right)} \\cos{\\left(\\theta{\\left(t \\right)} \\right)} - 12 r^{2} \\omega^{2}{\\left(t \\right)} \\theta{\\left(t \\right)}}{4 d^{2} + l^{2} + 12 r^{2} \\theta^{2}{\\left(t \\right)}}\\end{matrix}\\right]$"
      ],
      "text/plain": [
       "⎡d       ⎤   ⎡                           ω(t)                           ⎤\n",
       "⎢──(θ(t))⎥   ⎢                                                          ⎥\n",
       "⎢dt      ⎥   ⎢                                              2  2        ⎥\n",
       "⎢        ⎥ = ⎢6⋅d⋅g⋅sin(θ(t)) - 12⋅g⋅r⋅θ(t)⋅cos(θ(t)) - 12⋅r ⋅ω (t)⋅θ(t)⎥\n",
       "⎢d       ⎥   ⎢──────────────────────────────────────────────────────────⎥\n",
       "⎢──(ω(t))⎥   ⎢                    2    2       2  2                     ⎥\n",
       "⎣dt      ⎦   ⎣                 4⋅d  + l  + 12⋅r ⋅θ (t)                  ⎦"
      ]
     },
     "execution_count": 57,
     "metadata": {},
     "output_type": "execute_result"
    }
   ],
   "source": [
    "eom_in_first_order_form(T, U, theta, omega, t)"
   ]
  },
  {
   "cell_type": "markdown",
   "metadata": {},
   "source": [
    "The above mathematical equation represents a set of **coupled explicit first order nonlinear ordinary differential equations**. The left hand side has the derivatives of the two state variables $\\theta$ and $\\omega$ and the right hand side are the expressions one can use to calculate the derivatives given the constants (mass, geometry, etc) and the state variables at a given instance of time.\n",
    "\n",
    "This is a **mathematical model** that can predict the motion of the system and is derived from our conceptual model which is described with the **free body diagram**."
   ]
  },
  {
   "cell_type": "code",
   "execution_count": 58,
   "metadata": {},
   "outputs": [],
   "source": [
    "# write solution here"
   ]
  },
  {
   "cell_type": "markdown",
   "metadata": {},
   "source": [
    "### Exercise\n",
    "\n",
    "Write a Python function that computes the derivatives of the two **state variables**, $\\theta$ and $\\omega$. These expressions should come directly from the symbolic equations of motion we formed above.\n",
    "\n",
    "```python\n",
    "def rhs(theta, omega, d, l, r, g):\n",
    "    thetadot = # write your expression here\n",
    "    omegadot = # write your expression here\n",
    "    return thetadot, omegadot\n",
    "```\n",
    "\n",
    "**Note**: Make sure to use NumPy functions because this should work with floating point numbers. You will likely need `np.sin()` and `np.cos()`. For example:\n",
    "\n",
    "```python\n",
    "np.sin(5.0)\n",
    "```"
   ]
  },
  {
   "cell_type": "code",
   "execution_count": 59,
   "metadata": {},
   "outputs": [],
   "source": [
    "# write answer here"
   ]
  },
  {
   "cell_type": "code",
   "execution_count": 60,
   "metadata": {
    "jupyter": {
     "source_hidden": true
    }
   },
   "outputs": [],
   "source": [
    "def rhs(theta, omega, d, l, r, g):\n",
    "    thetadot = omega\n",
    "    omegadot = (6 * d * g * np.sin(theta) - 12 * g * r * theta * np.cos(theta) -\n",
    "                12 * r**2 * omega**2 * theta) / (4 * d**2 + l**2 + 12 * r**2 * theta**2)\n",
    "    return thetadot, omegadot"
   ]
  },
  {
   "cell_type": "markdown",
   "metadata": {},
   "source": [
    "You can test your function to see if it computes with floating point numbers:"
   ]
  },
  {
   "cell_type": "code",
   "execution_count": 61,
   "metadata": {},
   "outputs": [
    {
     "data": {
      "image/png": "[encoded data removed]",
      "text/latex": [
       "$\\displaystyle \\left( 2.1, \\  -0.9319989137586634\\right)$"
      ],
      "text/plain": [
       "(2.1, -0.9319989137586634)"
      ]
     },
     "execution_count": 61,
     "metadata": {},
     "output_type": "execute_result"
    }
   ],
   "source": [
    "rhs(5.0, 2.1, 6.0, 7.0, 12.0, 9.8)"
   ]
  },
  {
   "cell_type": "markdown",
   "metadata": {},
   "source": [
    "If you used all NumPy compatible functions it should also work with arrays:"
   ]
  },
  {
   "cell_type": "code",
   "execution_count": 62,
   "metadata": {},
   "outputs": [
    {
     "data": {
      "text/plain": [
       "(array([3.6, 3.6]), array([-2.63439331, -2.63439331]))"
      ]
     },
     "execution_count": 62,
     "metadata": {},
     "output_type": "execute_result"
    }
   ],
   "source": [
    "rhs(5.0 * np.ones(2), 3.6 * np.ones(2), 6.0, 7.0, 12.0, 9.8)"
   ]
  },
  {
   "cell_type": "markdown",
   "metadata": {},
   "source": [
    "# Summary\n",
    "\n",
    "In this notebook you:\n",
    "\n",
    "- characterized the books motion by its simulated and real period of oscillation\n",
    "- validated that the model matched reality and was a good predictor\n",
    "- found the value of the radius, a design parameter, that governed good \n",
    "\n",
    "This is a simple of example of what you will be doing in this class. Real systems offer many more interesting dynamics and vibratory motion, especially when there is more than one moving part. We will work with a new system each couple of class periods and get deeper and deeper into the analysis, modeling, and design of vibrating mechanical systems."
   ]
  }
 ],
 "metadata": {
  "anaconda-cloud": {},
  "kernelspec": {
   "display_name": "Python 3",
   "language": "python",
   "name": "python3"
  },
  "language_info": {
   "codemirror_mode": {
    "name": "ipython",
    "version": 3
   },
   "file_extension": ".py",
   "mimetype": "text/x-python",
   "name": "python",
   "nbconvert_exporter": "python",
   "pygments_lexer": "ipython3",
   "version": "3.6.7"
  }
 },
 "nbformat": 4,
 "nbformat_minor": 4
}
